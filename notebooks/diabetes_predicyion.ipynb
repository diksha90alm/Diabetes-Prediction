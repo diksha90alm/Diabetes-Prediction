# diabetes_prediction.ipynb

# Step 1: Import Libraries
import pandas as pd
import numpy as np
import matplotlib.pyplot as plt
import seaborn as sns
from sklearn.model_selection import train_test_split
from sklearn.linear_model import LogisticRegression
from sklearn.metrics import accuracy_score, classification_report, confusion_matrix

# Step 2: Load Dataset
data = pd.read_csv('../data/diabetes.csv')
print(data.head())

# Step 3: Data Exploration
print(data.info())
print(data.describe())
sns.countplot(x='Outcome', data=data)
plt.title("Distribution of Outcome (0=No Diabetes, 1=Diabetes)")
plt.show()

# Step 4: Check for nulls
print(data.isnull().sum())

# Step 5: Train-Test Split
X = data.drop('Outcome', axis=1)
y = data['Outcome']
X_train, X_test, y_train, y_test = train_test_split(X, y, test_size=0.2, random_state=42)

# Step 6: Model Training
model = LogisticRegression(max_iter=200)
model.fit(X_train, y_train)

# Step 7: Prediction & Evaluation
y_pred = model.predict(X_test)
print("Accuracy:", accuracy_score(y_test, y_pred))
print(confusion_matrix(y_test, y_pred))
print(classification_report(y_test, y_pred))
# diabetes_prediction.ipynb

# Step 1: Import Libraries
import pandas as pd
import numpy as np
import matplotlib.pyplot as plt
import seaborn as sns
from sklearn.model_selection import train_test_split
from sklearn.linear_model import LogisticRegression
from sklearn.metrics import accuracy_score, classification_report, confusion_matrix

# Step 2: Load Dataset
data = pd.read_csv('../data/diabetes.csv')
print(data.head())

# Step 3: Data Exploration
print(data.info())
print(data.describe())
sns.countplot(x='Outcome', data=data)
plt.title("Distribution of Outcome (0=No Diabetes, 1=Diabetes)")
plt.show()

# Step 4: Check for nulls
print(data.isnull().sum())

# Step 5: Train-Test Split
X = data.drop('Outcome', axis=1)
y = data['Outcome']
X_train, X_test, y_train, y_test = train_test_split(X, y, test_size=0.2, random_state=42)

# Step 6: Model Training
model = LogisticRegression(max_iter=200)
model.fit(X_train, y_train)

# Step 7: Prediction & Evaluation
y_pred = model.predict(X_test)
print("Accuracy:", accuracy_score(y_test, y_pred))
print(confusion_matrix(y_test, y_pred))
print(classification_report(y_test, y_pred))
